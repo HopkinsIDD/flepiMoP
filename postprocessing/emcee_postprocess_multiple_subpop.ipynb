{
 "cells": [
  {
   "cell_type": "markdown",
   "id": "b130771a",
   "metadata": {},
   "source": [
    "## 1. Create the main gempyor inference object from the config with all subpops\n",
    "(you might need to comment the subpop_placeholder thing)\n",
    "\n",
    "Rsync the results form the cluster\n",
    "```bash\n",
    "rsync -avz --prune-empty-dirs --include='*/' --include=\"*.h5\" --include=\"*.pdf*\" --include=\"*.yml\" --exclude='*' chadi@longleaf.unc.edu:/work/users/c/h/chadi/flepiMoP_Notebooks/Flu_USA .\n",
    "```"
   ]
  },
  {
   "cell_type": "code",
   "execution_count": null,
   "id": "c4c74234-90f5-463e-a685-ff9cf7620953",
   "metadata": {
    "ExecuteTime": {
     "end_time": "2023-11-20T10:04:39.274921Z",
     "start_time": "2023-11-20T10:04:37.320752Z"
    },
    "execution": {
     "iopub.execute_input": "2023-05-04T14:52:29.916947Z",
     "iopub.status.busy": "2023-05-04T14:52:29.916341Z",
     "iopub.status.idle": "2023-05-04T14:52:37.018295Z",
     "shell.execute_reply": "2023-05-04T14:52:37.017535Z",
     "shell.execute_reply.started": "2023-05-04T14:52:29.916917Z"
    },
    "tags": []
   },
   "outputs": [
    {
     "name": "stdout",
     "output_type": "stream",
     "text": [
      "found 12 CPUs, using these\n",
      "  gempyor >> Running ***DETERMINISTIC*** simulation;\n",
      "  gempyor >> ModelInfo USA_none_med; index: 1; run_id: SMH_Flu_2024_R1_allflu_medVax_H3_training_multiseason_emcee_difflocvarseas,\n",
      "  gempyor >> prefix: USA_none_med/SMH_Flu_2024_R1_allflu_medVax_H3_training_multiseason_emcee_difflocvarseas/;\n",
      "Loaded subpops in loaded relative probablity file: 153 Intersect with seir simulation:  153 kept\n",
      "Running Gempyor Inference\n",
      "LogLoss: 1 statistics and 37638 data points,number of NA for each statistic: \n",
      "source           0\n",
      "season           0\n",
      "incidH           0\n",
      "incidH_AllFlu    0\n",
      "dtype: int64\n",
      "InferenceParameters: with 1377 parameters: \n",
      "    seir_modifiers: 1377 parameters\n",
      "\n",
      "LogLoss: 1 statistics and 37638 data points,number of NA for each statistic: \n",
      "source           0\n",
      "season           0\n",
      "incidH           0\n",
      "incidH_AllFlu    0\n",
      "dtype: int64\n",
      "InferenceParameters: with 1377 parameters: \n",
      "    seir_modifiers: 1377 parameters\n",
      "\n"
     ]
    }
   ],
   "source": [
    "import gempyor\n",
    "import numpy as np\n",
    "import pandas as pd\n",
    "import matplotlib.pyplot as plt\n",
    "\n",
    "from pathlib import Path\n",
    "import copy\n",
    "\n",
    "# import seaborn as sns\n",
    "import matplotlib._color_data as mcd\n",
    "import pyarrow.parquet as pq\n",
    "import click\n",
    "import subprocess\n",
    "import dask.dataframe as dd\n",
    "import matplotlib.dates as mdates\n",
    "import matplotlib.cbook as cbook\n",
    "from matplotlib.backends.backend_pdf import PdfPages\n",
    "from gempyor.utils import config, as_list\n",
    "import os\n",
    "import multiprocessing as mp\n",
    "import pandas as pd\n",
    "import pyarrow.parquet as pq\n",
    "import xarray as xr\n",
    "from gempyor import config, model_info, outcomes, seir, inference_parameter, logloss, inference\n",
    "from gempyor.inference import GempyorInference\n",
    "import gempyor.postprocess_inference\n",
    "import multiprocessing, shutil\n",
    "\n",
    "import os\n",
    "from multiprocessing import cpu_count\n",
    "\n",
    "# disable  operations using the MKL linear algebra.\n",
    "os.environ[\"OMP_NUM_THREADS\"] = \"1\"\n",
    "import emcee\n",
    "\n",
    "from multiprocessing import Pool\n",
    "\n",
    "\n",
    "# Flu SMH\n",
    "project_path = \"Flu_USA/\"\n",
    "config_filepath = f\"config_SMH_Flu_2024_R1_allflu_medVax_H3_training_multiseason_emcee_difflocvarseas.yml\"\n",
    "\n",
    "\n",
    "run_id = config_filepath.split(\"/\")[-1].split(\".\")[0].replace(\"config_\", \"\")\n",
    "nwalkers = 10\n",
    "niter = 4\n",
    "nsamples = 50 # number of likelyhood eval to write to disk...\n",
    "nthin=5\n",
    "\n",
    "\n",
    "#### START COPY PAST FROM flepiMoP/flepimop/gempyor_pkg/src/gempyor/calibrate.py\n",
    "ncpu = cpu_count()\n",
    "print(f\"found {ncpu} CPUs, using these\")\n",
    "\n",
    "gempyor_inference = GempyorInference(\n",
    "        config_filepath=config_filepath,\n",
    "        run_id=run_id,\n",
    "        prefix=None,\n",
    "        first_sim_index=1,\n",
    "        rng_seed=None,\n",
    "        nslots=1,\n",
    "        inference_filename_prefix=\"global/final/\",  # usually for {global or chimeric}/{intermediate or final}\n",
    "        inference_filepath_suffix=\"\",  # usually for the slot_id\n",
    "        out_run_id=None,  # if out_run_id is different from in_run_id, fill this\n",
    "        out_prefix=None,  # if out_prefix is different from in_prefix, fill this\n",
    "        path_prefix=project_path,  # in case the data folder is on another directory\n",
    "        autowrite_seir=False,\n",
    ")\n",
    "#inferpar = inference_parameter.InferenceParameters(global_config=config, modinf=modinf)\n",
    "p0 = gempyor_inference.inferpar.draw_initial(n_draw=nwalkers)\n",
    "for i in range(nwalkers):\n",
    "    assert  gempyor_inference.inferpar.check_in_bound(proposal=p0[i]), \"The initial parameter draw is not within the bounds, check the perturbation distributions\"\n",
    "\n",
    "nsubpop = len(gempyor_inference.modinf.subpop_struct.subpop_names)\n",
    "subpop_names = gempyor_inference.modinf.subpop_struct.subpop_names\n",
    "\n",
    "print(gempyor_inference.logloss)\n",
    "print(gempyor_inference.inferpar)"
   ]
  },
  {
   "cell_type": "markdown",
   "id": "08ed659c",
   "metadata": {},
   "source": [
    "## Load each state-specific config and h5 files and run nsamples iteration for each, to get model output"
   ]
  },
  {
   "cell_type": "code",
   "execution_count": null,
   "id": "29212bca",
   "metadata": {},
   "outputs": [],
   "source": [
    "shutil.rmtree(\"model_output/\", ignore_errors=True)\n",
    "shutil.rmtree(os.path.join(project_path, \"model_output/\"), ignore_errors=True)\n",
    "shutil.rmtree(os.path.join(project_path, \"/model_output/\"), ignore_errors=True)\n",
    "states = [sp.split(\"_\")[0] for sp in subpop_names]\n",
    "states = list(set(states))\n",
    "nsamples=10\n",
    "chain_index = -1 # -1 for last\n",
    "for i, sp in enumerate(states):\n",
    "    print(f\"Subpop: {i} {sp}\", end=\" \")\n",
    "    try:\n",
    "        filename = f\"Flu_USA/SMH_Flu_2024_R1_allflu_medVax_H3_training_multiseason_emcee_difflocvarseas_{sp}-*.h5\"\n",
    "        # find a file that matches the pattern\n",
    "        import glob\n",
    "        filename = glob.glob(filename)\n",
    "        if len(filename) == 0:\n",
    "            print(f\"File {filename} does not exist\")\n",
    "            continue\n",
    "        filename = filename[0]\n",
    "\n",
    "        # check if the file exists\n",
    "        if not os.path.exists(filename):\n",
    "            print(f\"File {filename} does not exist\")\n",
    "            continue\n",
    "        else: \n",
    "            print(\"lets go\")\n",
    "        sampler = emcee.backends.HDFBackend(filename, read_only=True)\n",
    "\n",
    "        max_indices = np.argsort(sampler.get_log_prob()[chain_index, :])[-nsamples:]\n",
    "        print(sampler.get_chain().shape)\n",
    "        chains = sampler.get_chain()[:chain_index, max_indices, :]        # the last iteration, for selected slots\n",
    "        samples = sampler.get_chain()[chain_index, max_indices, :]  # the last iteration, for selected slots\n",
    "        llik = sampler.get_log_prob()[:chain_index, max_indices]\n",
    "        gempyor_inference.set_save(True)\n",
    "        config_filepath = f\"Flu_USA/config_SMH_Flu_2024_R1_allflu_medVax_H3_training_multiseason_emcee_difflocvarseas_{sp}.yml\"\n",
    "        run_id = \"flu_\" + sp\n",
    "        gempyor_inference = GempyorInference(\n",
    "            config_filepath=config_filepath,\n",
    "            run_id=run_id,\n",
    "            prefix=None,\n",
    "            first_sim_index=1,\n",
    "            rng_seed=None,\n",
    "            nslots=1,\n",
    "            inference_filename_prefix=\"global/final/\",  # usually for {global or chimeric}/{intermediate or final}\n",
    "            inference_filepath_suffix=\"\",  # usually for the slot_id\n",
    "            out_run_id=None,  # if out_run_id is different from in_run_id, fill this\n",
    "            out_prefix=None,  # if out_prefix is different from in_prefix, fill this\n",
    "            path_prefix=project_path,  # in case the data folder is on another directory\n",
    "            autowrite_seir=False,\n",
    "        )\n",
    "        gempyor_inference.set_save(True)\n",
    "        with multiprocessing.Pool(ncpu) as pool:\n",
    "            results = pool.starmap(\n",
    "                gempyor_inference.get_logloss_as_single_number, [(samples[i, :],) for i in range(len(max_indices))]\n",
    "            )\n",
    "    except Exception as e:\n",
    "        print(f\"Error: {e}\")\n",
    "        continue\n",
    "    "
   ]
  },
  {
   "cell_type": "code",
   "execution_count": 4,
   "id": "8ba36940",
   "metadata": {},
   "outputs": [
    {
     "name": "stdout",
     "output_type": "stream",
     "text": [
      "51\n"
     ]
    }
   ],
   "source": [
    "results = {}\n",
    "for fn in gempyor.utils.list_filenames(folder=project_path+\"model_output/\", filters=[\"hosp.parquet\"]): ## TODO: here project path is correct, but use to concatenate path. the right way\n",
    "    sp = fn.split(\"_\")[-1].split(\".\")[0]\n",
    "    if sp in results:\n",
    "        results[sp].append(gempyor.read_df(fn))\n",
    "    else:\n",
    "        results[sp] = [gempyor.read_df(fn)]\n",
    "    df = gempyor.read_df(fn)\n",
    "    df = df.set_index(\"date\", drop=True)\n",
    "print(len(results))"
   ]
  },
  {
   "cell_type": "code",
   "execution_count": 5,
   "id": "d226cb0d",
   "metadata": {},
   "outputs": [],
   "source": [
    "list_of_dfs = []\n",
    "for i in range(nsamples):\n",
    "    to_concat = []\n",
    "    for sp in results:\n",
    "        to_concat.append(results[sp][i])\n",
    "    df = pd.concat(to_concat, axis=0)\n",
    "    list_of_dfs.append(df.set_index(\"date\", drop=True))\n",
    "results=list_of_dfs"
   ]
  },
  {
   "cell_type": "markdown",
   "id": "6adddc44",
   "metadata": {},
   "source": [
    "## reload the main gempyor object from the config that has all subpop to plot the all together"
   ]
  },
  {
   "cell_type": "code",
   "execution_count": null,
   "id": "fad96562",
   "metadata": {},
   "outputs": [
    {
     "name": "stdout",
     "output_type": "stream",
     "text": [
      "found 12 CPUs, using these\n",
      "  gempyor >> Running ***DETERMINISTIC*** simulation;\n",
      "  gempyor >> ModelInfo USA_none_med; index: 1; run_id: SMH_Flu_2024_R1_allflu_medVax_H3_training_multiseason_emcee_difflocvarseas,\n",
      "  gempyor >> prefix: USA_none_med/SMH_Flu_2024_R1_allflu_medVax_H3_training_multiseason_emcee_difflocvarseas/;\n",
      "Loaded subpops in loaded relative probablity file: 153 Intersect with seir simulation:  153 kept\n",
      "Running Gempyor Inference\n",
      "LogLoss: 1 statistics and 37638 data points,number of NA for each statistic: \n",
      "source           0\n",
      "season           0\n",
      "incidH           0\n",
      "incidH_AllFlu    0\n",
      "dtype: int64\n",
      "InferenceParameters: with 1377 parameters: \n",
      "    seir_modifiers: 1377 parameters\n",
      "\n"
     ]
    }
   ],
   "source": [
    "config_filepath = f\"config_SMH_Flu_2024_R1_allflu_medVax_H3_training_multiseason_emcee_difflocvarseas.yml\"\n",
    "\n",
    "# Disparities\n",
    "#project_path = \"COVID19_Disparities\"\n",
    "#config_filepath = f\"config_SMH_Rdisparity_phase_one_phase1_blk1_limitIFR_CA-NC_emcee.yml\"\n",
    "\n",
    "run_id = config_filepath.split(\"/\")[-1].split(\".\")[0].replace(\"config_\", \"\")\n",
    "\n",
    "\n",
    "\n",
    "#### START COPY PAST FROM flepiMoP/flepimop/gempyor_pkg/src/gempyor/calibrate.py\n",
    "ncpu = cpu_count()\n",
    "print(f\"found {ncpu} CPUs, using these\")\n",
    "\n",
    "gempyor_inference = GempyorInference(\n",
    "        config_filepath=config_filepath,\n",
    "        run_id=run_id,\n",
    "        prefix=None,\n",
    "        first_sim_index=1,\n",
    "        rng_seed=None,\n",
    "        nslots=1,\n",
    "        inference_filename_prefix=\"global/final/\",  # usually for {global or chimeric}/{intermediate or final}\n",
    "        inference_filepath_suffix=\"\",  # usually for the slot_id\n",
    "        out_run_id=None,  # if out_run_id is different from in_run_id, fill this\n",
    "        out_prefix=None,  # if out_prefix is different from in_prefix, fill this\n",
    "        path_prefix=project_path,  # in case the data folder is on another directory\n",
    "        autowrite_seir=False,\n",
    ")"
   ]
  },
  {
   "cell_type": "code",
   "execution_count": null,
   "id": "2556738e",
   "metadata": {},
   "outputs": [],
   "source": [
    "\n",
    "gempyor.postprocess_inference.plot_fit(modinf=gempyor_inference.modinf, loss=gempyor_inference.logloss, list_of_df=results, save_to=f\"{run_id}_fit_gtdates.pdf\")\n",
    "gempyor.postprocess_inference.plot_fit(modinf=gempyor_inference.modinf, loss=gempyor_inference.logloss,plot_projections=True, list_of_df=results, save_to=f\"{run_id}_fit_proj.pdf\")"
   ]
  }
 ],
 "metadata": {
  "kernelspec": {
   "display_name": "base",
   "language": "python",
   "name": "python3"
  },
  "language_info": {
   "codemirror_mode": {
    "name": "ipython",
    "version": 3
   },
   "file_extension": ".py",
   "mimetype": "text/x-python",
   "name": "python",
   "nbconvert_exporter": "python",
   "pygments_lexer": "ipython3",
   "version": "3.11.0"
  }
 },
 "nbformat": 4,
 "nbformat_minor": 5
}
