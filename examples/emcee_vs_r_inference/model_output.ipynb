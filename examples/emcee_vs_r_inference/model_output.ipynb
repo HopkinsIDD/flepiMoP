{
 "cells": [
  {
   "cell_type": "code",
   "execution_count": null,
   "id": "c4db2e93",
   "metadata": {},
   "outputs": [
    {
     "name": "stderr",
     "output_type": "stream",
     "text": [
      "/Users/twillard/Desktop/GitHub/HopkinsIDD/flepiMoP/venv/lib/python3.11/site-packages/tqdm/auto.py:21: TqdmWarning: IProgress not found. Please update jupyter and ipywidgets. See https://ipywidgets.readthedocs.io/en/stable/user_install.html\n",
      "  from .autonotebook import tqdm as notebook_tqdm\n"
     ]
    }
   ],
   "source": [
    "from pathlib import Path\n",
    "\n",
    "import pandas as pd\n",
    "import seaborn as sns\n",
    "\n",
    "from gempyor.utils import read_directory"
   ]
  },
  {
   "cell_type": "code",
   "execution_count": 2,
   "id": "8a71d019",
   "metadata": {},
   "outputs": [
    {
     "data": {
      "application/vnd.microsoft.datawrangler.viewer.v0+json": {
       "columns": [
        {
         "name": "index",
         "rawType": "int64",
         "type": "integer"
        },
        {
         "name": "date",
         "rawType": "datetime64[ns]",
         "type": "datetime"
        },
        {
         "name": "subpop",
         "rawType": "object",
         "type": "string"
        },
        {
         "name": "hospitalizations",
         "rawType": "float64",
         "type": "float"
        },
        {
         "name": "hospitalizations_curr",
         "rawType": "float64",
         "type": "float"
        },
        {
         "name": "slot",
         "rawType": "int64",
         "type": "integer"
        }
       ],
       "ref": "2bc2bdd3-a4f3-4ad9-aadc-3742fd50daee",
       "rows": [
        [
         "0",
         "2024-01-01 00:00:00",
         "NC",
         "0.0",
         "0.0",
         "1"
        ],
        [
         "1",
         "2024-01-02 00:00:00",
         "NC",
         "0.0",
         "0.0",
         "1"
        ],
        [
         "2",
         "2024-01-03 00:00:00",
         "NC",
         "0.0",
         "0.0",
         "1"
        ],
        [
         "3",
         "2024-01-04 00:00:00",
         "NC",
         "0.0",
         "0.0",
         "1"
        ],
        [
         "4",
         "2024-01-05 00:00:00",
         "NC",
         "0.0",
         "0.0",
         "1"
        ]
       ],
       "shape": {
        "columns": 5,
        "rows": 5
       }
      },
      "text/html": [
       "<div>\n",
       "<style scoped>\n",
       "    .dataframe tbody tr th:only-of-type {\n",
       "        vertical-align: middle;\n",
       "    }\n",
       "\n",
       "    .dataframe tbody tr th {\n",
       "        vertical-align: top;\n",
       "    }\n",
       "\n",
       "    .dataframe thead th {\n",
       "        text-align: right;\n",
       "    }\n",
       "</style>\n",
       "<table border=\"1\" class=\"dataframe\">\n",
       "  <thead>\n",
       "    <tr style=\"text-align: right;\">\n",
       "      <th></th>\n",
       "      <th>date</th>\n",
       "      <th>subpop</th>\n",
       "      <th>hospitalizations</th>\n",
       "      <th>hospitalizations_curr</th>\n",
       "      <th>slot</th>\n",
       "    </tr>\n",
       "  </thead>\n",
       "  <tbody>\n",
       "    <tr>\n",
       "      <th>0</th>\n",
       "      <td>2024-01-01</td>\n",
       "      <td>NC</td>\n",
       "      <td>0.0</td>\n",
       "      <td>0.0</td>\n",
       "      <td>1</td>\n",
       "    </tr>\n",
       "    <tr>\n",
       "      <th>1</th>\n",
       "      <td>2024-01-02</td>\n",
       "      <td>NC</td>\n",
       "      <td>0.0</td>\n",
       "      <td>0.0</td>\n",
       "      <td>1</td>\n",
       "    </tr>\n",
       "    <tr>\n",
       "      <th>2</th>\n",
       "      <td>2024-01-03</td>\n",
       "      <td>NC</td>\n",
       "      <td>0.0</td>\n",
       "      <td>0.0</td>\n",
       "      <td>1</td>\n",
       "    </tr>\n",
       "    <tr>\n",
       "      <th>3</th>\n",
       "      <td>2024-01-04</td>\n",
       "      <td>NC</td>\n",
       "      <td>0.0</td>\n",
       "      <td>0.0</td>\n",
       "      <td>1</td>\n",
       "    </tr>\n",
       "    <tr>\n",
       "      <th>4</th>\n",
       "      <td>2024-01-05</td>\n",
       "      <td>NC</td>\n",
       "      <td>0.0</td>\n",
       "      <td>0.0</td>\n",
       "      <td>1</td>\n",
       "    </tr>\n",
       "  </tbody>\n",
       "</table>\n",
       "</div>"
      ],
      "text/plain": [
       "        date subpop  hospitalizations  hospitalizations_curr  slot\n",
       "0 2024-01-01     NC               0.0                    0.0     1\n",
       "1 2024-01-02     NC               0.0                    0.0     1\n",
       "2 2024-01-03     NC               0.0                    0.0     1\n",
       "3 2024-01-04     NC               0.0                    0.0     1\n",
       "4 2024-01-05     NC               0.0                    0.0     1"
      ]
     },
     "execution_count": 2,
     "metadata": {},
     "output_type": "execute_result"
    }
   ],
   "source": [
    "df = read_directory(Path.cwd() / \"model_output\" / \"three_state\" / \"20250804_081545\", filters=[\"hosp\"])\n",
    "df.head()"
   ]
  },
  {
   "cell_type": "code",
   "execution_count": 3,
   "id": "95d36500",
   "metadata": {},
   "outputs": [
    {
     "ename": "NameError",
     "evalue": "name 'sns' is not defined",
     "output_type": "error",
     "traceback": [
      "\u001b[31m---------------------------------------------------------------------------\u001b[39m",
      "\u001b[31mNameError\u001b[39m                                 Traceback (most recent call last)",
      "\u001b[36mCell\u001b[39m\u001b[36m \u001b[39m\u001b[32mIn[3]\u001b[39m\u001b[32m, line 1\u001b[39m\n\u001b[32m----> \u001b[39m\u001b[32m1\u001b[39m \u001b[43msns\u001b[49m.lineplot(df, x=\u001b[33m\"\u001b[39m\u001b[33mdate\u001b[39m\u001b[33m\"\u001b[39m, y=\u001b[33m\"\u001b[39m\u001b[33mhospitalizations_curr\u001b[39m\u001b[33m\"\u001b[39m, hue=\u001b[33m\"\u001b[39m\u001b[33mslot\u001b[39m\u001b[33m\"\u001b[39m)\n",
      "\u001b[31mNameError\u001b[39m: name 'sns' is not defined"
     ]
    }
   ],
   "source": [
    "sns.lineplot(df, x=\"date\", y=\"hospitalizations_curr\", hue=\"slot\")"
   ]
  },
  {
   "cell_type": "code",
   "execution_count": null,
   "id": "fa1a8075",
   "metadata": {},
   "outputs": [],
   "source": []
  }
 ],
 "metadata": {
  "kernelspec": {
   "display_name": "Python 3",
   "language": "python",
   "name": "python3"
  },
  "language_info": {
   "codemirror_mode": {
    "name": "ipython",
    "version": 3
   },
   "file_extension": ".py",
   "mimetype": "text/x-python",
   "name": "python",
   "nbconvert_exporter": "python",
   "pygments_lexer": "ipython3",
   "version": "3.11.13"
  }
 },
 "nbformat": 4,
 "nbformat_minor": 5
}
